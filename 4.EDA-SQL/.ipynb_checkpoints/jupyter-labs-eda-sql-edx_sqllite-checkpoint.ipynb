{
 "cells": [
  {
   "cell_type": "markdown",
   "id": "397ae850-f509-4005-98f3-97440a12352f",
   "metadata": {},
   "source": [
    " <p style=\"text-align:center\">\n",
    "    <a href=\"https://skills.network/?utm_medium=Exinfluencer&utm_source=Exinfluencer&utm_content=000026UJ&utm_term=10006555&utm_id=NA-SkillsNetwork-Channel-SkillsNetworkCoursesIBMDS0321ENSkillsNetwork865-2023-01-01\">\n",
    "    <img src=\"https://cf-courses-data.s3.us.cloud-object-storage.appdomain.cloud/assets/logos/SN_web_lightmode.png\" width=\"200\" alt=\"Skills Network Logo\"  />\n",
    "    </a>\n",
    "</p>\n",
    "\n",
    "<h1 align=center><font size = 5>Assignment: SQL Notebook for Peer Assignment</font></h1>\n",
    "\n",
    "Estimated time needed: **60** minutes.\n",
    "\n",
    "## Introduction\n",
    "Using this Python notebook you will:\n",
    "\n",
    "1.  Understand the Spacex DataSet\n",
    "2.  Load the dataset  into the corresponding table in a Db2 database\n",
    "3.  Execute SQL queries to answer assignment questions \n"
   ]
  },
  {
   "cell_type": "markdown",
   "id": "85a39cf4-be25-4216-8349-b55c8520e467",
   "metadata": {},
   "source": [
    "## Overview of the DataSet\n",
    "\n",
    "SpaceX has gained worldwide attention for a series of historic milestones. \n",
    "\n",
    "It is the only private company ever to return a spacecraft from low-earth orbit, which it first accomplished in December 2010.\n",
    "SpaceX advertises Falcon 9 rocket launches on its website with a cost of 62 million dollars wheras other providers cost upward of 165 million dollars each, much of the savings is because Space X can reuse the first stage. \n",
    "\n",
    "\n",
    "Therefore if we can determine if the first stage will land, we can determine the cost of a launch. \n",
    "\n",
    "This information can be used if an alternate company wants to bid against SpaceX for a rocket launch.\n",
    "\n",
    "This dataset includes a record for each payload carried during a SpaceX mission into outer space.\n"
   ]
  },
  {
   "cell_type": "markdown",
   "id": "aefad052-33cb-4f0d-8449-c3c2955bb91c",
   "metadata": {},
   "source": [
    "### Download the datasets\n",
    "\n",
    "This assignment requires you to load the spacex dataset.\n",
    "\n",
    "In many cases the dataset to be analyzed is available as a .CSV (comma separated values) file, perhaps on the internet. Click on the link below to download and save the dataset (.CSV file):\n",
    "\n",
    " <a href=\"https://cf-courses-data.s3.us.cloud-object-storage.appdomain.cloud/IBM-DS0321EN-SkillsNetwork/labs/module_2/data/Spacex.csv\" target=\"_blank\">Spacex DataSet</a>\n",
    "\n"
   ]
  },
  {
   "cell_type": "markdown",
   "id": "2749e630-36e8-46dd-909c-5e1ba06095e7",
   "metadata": {},
   "source": [
    "### Store the dataset in database table\n",
    "\n",
    " **it is highly recommended to manually load the table using the database console LOAD tool in DB2**.\n",
    "\n",
    "<img src=\"https://cf-courses-data.s3.us.cloud-object-storage.appdomain.cloud/IBM-DS0321EN-SkillsNetwork/labs/module_2/images/spacexload.png\">\n",
    "\n",
    "Now open the Db2 console, open the LOAD tool, Select / Drag the .CSV file for the  dataset, Next create a New Table, and then follow the steps on-screen instructions to load the data. Name the new table as follows:\n",
    "\n",
    " **SPACEXDATASET**\n",
    " \n",
    " **Follow these steps while using old DB2 UI which is having Open Console Screen**\n",
    "\n",
    "**Note:While loading Spacex dataset, ensure that detect datatypes is disabled. Later click on the pencil icon(edit option).**\n",
    "\n",
    "1. Change the Date Format by manually typing DD-MM-YYYY and timestamp format as DD-MM-YYYY HH:MM:SS  \n",
    "\n",
    "\n",
    "2. Change the PAYLOAD_MASS__KG_  datatype  to INTEGER.\n",
    "\n",
    "<img src=\"https://cf-courses-data.s3.us.cloud-object-storage.appdomain.cloud/IBM-DS0321EN-SkillsNetwork/labs/module_2/images/spacexload2.png\">\n",
    "\n"
   ]
  },
  {
   "cell_type": "markdown",
   "id": "7c1e5cd9-12b4-41e4-88f1-7d78c36e17d4",
   "metadata": {},
   "source": [
    "**Changes to be considered when having DB2 instance with the new UI having Go to UI screen** \n",
    "\n",
    "* Refer to this insruction in this <a href=\"https://cf-courses-data.s3.us.cloud-object-storage.appdomain.cloud/IBMDeveloperSkillsNetwork-DB0201EN-SkillsNetwork/labs/Labs_Coursera_V5/labs/Lab%20-%20Sign%20up%20for%20IBM%20Cloud%20-%20Create%20Db2%20service%20instance%20-%20Get%20started%20with%20the%20Db2%20console/instructional-labs.md.html\">link</a> for viewing  the new  Go to UI screen. \n",
    "\n",
    "\n",
    "* Later click on **Data link(below SQL)**  in the Go to UI screen  and click on **Load Data** tab.  \n",
    "\n",
    "\n",
    "\n",
    "* Later browse for the downloaded spacex file.\n",
    "\n",
    "\n",
    "\n",
    "<img src=\"https://cf-courses-data.s3.us.cloud-object-storage.appdomain.cloud/IBM-DS0321EN-SkillsNetwork/labs/module_2/images/browsefile.png\" width=\"800\">\n",
    "\n",
    "\n",
    "* Once done select the schema andload the file.  \n",
    "\n",
    "\n",
    " <img src=\"https://cf-courses-data.s3.us.cloud-object-storage.appdomain.cloud/IBM-DS0321EN-SkillsNetwork/labs/module_2/images/spacexload3.png\" width=\"800\">\n",
    " \n"
   ]
  },
  {
   "cell_type": "code",
   "execution_count": 1,
   "id": "e4053531-f94f-4d01-984c-f2f28fb433b0",
   "metadata": {},
   "outputs": [
    {
     "name": "stdout",
     "output_type": "stream",
     "text": [
      "Collecting sqlalchemy==1.3.9"
     ]
    },
    {
     "name": "stderr",
     "output_type": "stream",
     "text": [
      "ERROR: pip's dependency resolver does not currently take into account all the packages that are installed. This behaviour is the source of the following dependency conflicts.\n",
      "ipython-sql 0.5.0 requires sqlalchemy>=2.0, but you have sqlalchemy 1.3.9 which is incompatible.\n"
     ]
    },
    {
     "name": "stdout",
     "output_type": "stream",
     "text": [
      "\n",
      "  Using cached SQLAlchemy-1.3.9-cp38-cp38-win_amd64.whl\n",
      "Installing collected packages: sqlalchemy\n",
      "  Attempting uninstall: sqlalchemy\n",
      "    Found existing installation: SQLAlchemy 2.0.19\n",
      "    Uninstalling SQLAlchemy-2.0.19:\n",
      "      Successfully uninstalled SQLAlchemy-2.0.19\n",
      "Successfully installed sqlalchemy-1.3.9\n",
      "Requirement already satisfied: ibm_db_sa in c:\\users\\laura y estrella\\anaconda3\\lib\\site-packages (0.4.0)\n",
      "Requirement already satisfied: ibm-db>=2.0.0 in c:\\users\\laura y estrella\\anaconda3\\lib\\site-packages (from ibm_db_sa) (3.1.4)\n",
      "Requirement already satisfied: sqlalchemy>=0.7.3 in c:\\users\\laura y estrella\\anaconda3\\lib\\site-packages (from ibm_db_sa) (1.3.9)\n",
      "Requirement already satisfied: ipython-sql in c:\\users\\laura y estrella\\anaconda3\\lib\\site-packages (0.5.0)\n",
      "Requirement already satisfied: six in c:\\users\\laura y estrella\\anaconda3\\lib\\site-packages (from ipython-sql) (1.15.0)\n",
      "Requirement already satisfied: sqlparse in c:\\users\\laura y estrella\\anaconda3\\lib\\site-packages (from ipython-sql) (0.4.4)\n",
      "Requirement already satisfied: ipython in c:\\users\\laura y estrella\\anaconda3\\lib\\site-packages (from ipython-sql) (7.22.0)\n",
      "Collecting sqlalchemy>=2.0\n",
      "  Using cached SQLAlchemy-2.0.19-cp38-cp38-win_amd64.whl (2.0 MB)\n",
      "Requirement already satisfied: prettytable in c:\\users\\laura y estrella\\anaconda3\\lib\\site-packages (from ipython-sql) (3.8.0)\n",
      "Requirement already satisfied: ipython-genutils in c:\\users\\laura y estrella\\anaconda3\\lib\\site-packages (from ipython-sql) (0.2.0)\n",
      "Requirement already satisfied: typing-extensions>=4.2.0 in c:\\users\\laura y estrella\\anaconda3\\lib\\site-packages (from sqlalchemy>=2.0->ipython-sql) (4.7.1)\n",
      "Requirement already satisfied: greenlet!=0.4.17 in c:\\users\\laura y estrella\\anaconda3\\lib\\site-packages (from sqlalchemy>=2.0->ipython-sql) (1.0.0)\n",
      "Requirement already satisfied: jedi>=0.16 in c:\\users\\laura y estrella\\anaconda3\\lib\\site-packages (from ipython->ipython-sql) (0.17.2)\n",
      "Requirement already satisfied: pygments in c:\\users\\laura y estrella\\anaconda3\\lib\\site-packages (from ipython->ipython-sql) (2.8.1)\n",
      "Requirement already satisfied: colorama in c:\\users\\laura y estrella\\anaconda3\\lib\\site-packages (from ipython->ipython-sql) (0.4.4)\n",
      "Requirement already satisfied: backcall in c:\\users\\laura y estrella\\anaconda3\\lib\\site-packages (from ipython->ipython-sql) (0.2.0)\n",
      "Requirement already satisfied: setuptools>=18.5 in c:\\users\\laura y estrella\\anaconda3\\lib\\site-packages (from ipython->ipython-sql) (52.0.0.post20210125)\n",
      "Requirement already satisfied: pickleshare in c:\\users\\laura y estrella\\anaconda3\\lib\\site-packages (from ipython->ipython-sql) (0.7.5)\n",
      "Requirement already satisfied: prompt-toolkit!=3.0.0,!=3.0.1,<3.1.0,>=2.0.0 in c:\\users\\laura y estrella\\anaconda3\\lib\\site-packages (from ipython->ipython-sql) (3.0.17)\n",
      "Requirement already satisfied: decorator in c:\\users\\laura y estrella\\anaconda3\\lib\\site-packages (from ipython->ipython-sql) (5.0.6)\n",
      "Requirement already satisfied: traitlets>=4.2 in c:\\users\\laura y estrella\\anaconda3\\lib\\site-packages (from ipython->ipython-sql) (5.0.5)\n",
      "Requirement already satisfied: parso<0.8.0,>=0.7.0 in c:\\users\\laura y estrella\\anaconda3\\lib\\site-packages (from jedi>=0.16->ipython->ipython-sql) (0.7.0)\n",
      "Requirement already satisfied: wcwidth in c:\\users\\laura y estrella\\anaconda3\\lib\\site-packages (from prompt-toolkit!=3.0.0,!=3.0.1,<3.1.0,>=2.0.0->ipython->ipython-sql) (0.2.5)\n",
      "Installing collected packages: sqlalchemy\n",
      "  Attempting uninstall: sqlalchemy\n",
      "    Found existing installation: SQLAlchemy 1.3.9\n",
      "    Uninstalling SQLAlchemy-1.3.9:\n",
      "      Successfully uninstalled SQLAlchemy-1.3.9\n",
      "Successfully installed sqlalchemy-2.0.19\n"
     ]
    }
   ],
   "source": [
    "!pip install sqlalchemy==1.3.9\n",
    "!pip install ibm_db_sa\n",
    "!pip install ipython-sql\n"
   ]
  },
  {
   "cell_type": "markdown",
   "id": "afe1a95e-c9d1-4600-a59e-173c1f4a517f",
   "metadata": {},
   "source": [
    "### Connect to the database\n",
    "\n",
    "Let us first load the SQL extension and establish a connection with the database\n",
    "\n",
    "%sql ibm_db_sa://my-username:my-password@my-hostname:my-port/my-db-name?security=SSL\n"
   ]
  },
  {
   "cell_type": "code",
   "execution_count": 3,
   "id": "05527331-4da2-4ea5-8297-9b9450767974",
   "metadata": {},
   "outputs": [
    {
     "name": "stdout",
     "output_type": "stream",
     "text": [
      "The sql extension is already loaded. To reload it, use:\n",
      "  %reload_ext sql\n"
     ]
    }
   ],
   "source": [
    "%load_ext sql\n",
    "%sql ibm_db_sa://qxc09986:MYIRRPMPfkRslNxx@1bbf73c5-d84a-4bb0-85b9-ab1a4348f4a4.c3n41cmd0nqnrk39u98g.databases.appdomain.cloud:32286/bludb;security=SSL\n",
    "         "
   ]
  },
  {
   "cell_type": "markdown",
   "id": "589ecf09-7ace-4f2b-ad04-d2650ca2a2a3",
   "metadata": {},
   "source": [
    "## Tasks\n",
    "\n",
    "Now write and execute SQL queries to solve the assignment tasks.\n",
    "\n",
    "**Note: If the column names are in mixed case enclose it in double quotes\n",
    "   For Example \"Landing_Outcome\"**\n",
    "\n",
    "### Task 1\n",
    "\n",
    "\n",
    "\n",
    "\n",
    "##### Display the names of the unique launch sites  in the space mission\n"
   ]
  },
  {
   "cell_type": "code",
   "execution_count": 4,
   "id": "8e023fc1-d37c-41fc-8381-acc6eaec8eff",
   "metadata": {},
   "outputs": [
    {
     "name": "stdout",
     "output_type": "stream",
     "text": [
      " * ibm_db_sa://qxc09986:***@1bbf73c5-d84a-4bb0-85b9-ab1a4348f4a4.c3n41cmd0nqnrk39u98g.databases.appdomain.cloud:32286/bludb;security=SSL\n",
      "Done.\n"
     ]
    },
    {
     "data": {
      "text/html": [
       "<table>\n",
       "    <thead>\n",
       "        <tr>\n",
       "            <th>launch_site</th>\n",
       "        </tr>\n",
       "    </thead>\n",
       "    <tbody>\n",
       "        <tr>\n",
       "            <td>CCAFS LC-40</td>\n",
       "        </tr>\n",
       "        <tr>\n",
       "            <td>CCAFS SLC-40</td>\n",
       "        </tr>\n",
       "        <tr>\n",
       "            <td>KSC LC-39A</td>\n",
       "        </tr>\n",
       "        <tr>\n",
       "            <td>VAFB SLC-4E</td>\n",
       "        </tr>\n",
       "    </tbody>\n",
       "</table>"
      ],
      "text/plain": [
       "[('CCAFS LC-40',), ('CCAFS SLC-40',), ('KSC LC-39A',), ('VAFB SLC-4E',)]"
      ]
     },
     "execution_count": 4,
     "metadata": {},
     "output_type": "execute_result"
    }
   ],
   "source": [
    "%sql select Unique(LAUNCH_SITE) from SPACEXTBL;"
   ]
  },
  {
   "cell_type": "markdown",
   "id": "a901229e-b385-434f-9c66-4f60a7f3b1ba",
   "metadata": {},
   "source": [
    "\n",
    "### Task 2\n",
    "\n",
    "\n",
    "#####  Display 5 records where launch sites begin with the string 'KSC' \n"
   ]
  },
  {
   "cell_type": "code",
   "execution_count": 5,
   "id": "c99dd032-98d2-46b5-93d6-daa2d09cde74",
   "metadata": {},
   "outputs": [
    {
     "name": "stdout",
     "output_type": "stream",
     "text": [
      " * ibm_db_sa://qxc09986:***@1bbf73c5-d84a-4bb0-85b9-ab1a4348f4a4.c3n41cmd0nqnrk39u98g.databases.appdomain.cloud:32286/bludb;security=SSL\n",
      "Done.\n"
     ]
    },
    {
     "data": {
      "text/html": [
       "<table>\n",
       "    <thead>\n",
       "        <tr>\n",
       "            <th>launch_site</th>\n",
       "        </tr>\n",
       "    </thead>\n",
       "    <tbody>\n",
       "        <tr>\n",
       "            <td>KSC LC-39A</td>\n",
       "        </tr>\n",
       "        <tr>\n",
       "            <td>KSC LC-39A</td>\n",
       "        </tr>\n",
       "        <tr>\n",
       "            <td>KSC LC-39A</td>\n",
       "        </tr>\n",
       "        <tr>\n",
       "            <td>KSC LC-39A</td>\n",
       "        </tr>\n",
       "        <tr>\n",
       "            <td>KSC LC-39A</td>\n",
       "        </tr>\n",
       "    </tbody>\n",
       "</table>"
      ],
      "text/plain": [
       "[('KSC LC-39A',),\n",
       " ('KSC LC-39A',),\n",
       " ('KSC LC-39A',),\n",
       " ('KSC LC-39A',),\n",
       " ('KSC LC-39A',)]"
      ]
     },
     "execution_count": 5,
     "metadata": {},
     "output_type": "execute_result"
    }
   ],
   "source": [
    "%sql select LAUNCH_SITE from SPACEXTBL WHERE (LAUNCH_SITE) LIKE 'KSC%' LIMIT 5;"
   ]
  },
  {
   "cell_type": "markdown",
   "id": "3dea33c6-bb29-4cf2-8d88-c8ef82461bdb",
   "metadata": {},
   "source": [
    "### Task 3\n",
    "\n",
    "\n",
    "\n",
    "\n",
    "##### Display the total payload mass carried by boosters launched by NASA (CRS)\n"
   ]
  },
  {
   "cell_type": "code",
   "execution_count": 6,
   "id": "6e49a825-2f17-4a86-b4ee-1b59272e3589",
   "metadata": {},
   "outputs": [
    {
     "name": "stdout",
     "output_type": "stream",
     "text": [
      " * ibm_db_sa://qxc09986:***@1bbf73c5-d84a-4bb0-85b9-ab1a4348f4a4.c3n41cmd0nqnrk39u98g.databases.appdomain.cloud:32286/bludb;security=SSL\n",
      "Done.\n"
     ]
    },
    {
     "data": {
      "text/html": [
       "<table>\n",
       "    <thead>\n",
       "        <tr>\n",
       "            <th>SUM</th>\n",
       "        </tr>\n",
       "    </thead>\n",
       "    <tbody>\n",
       "        <tr>\n",
       "            <td>45596</td>\n",
       "        </tr>\n",
       "    </tbody>\n",
       "</table>"
      ],
      "text/plain": [
       "[(45596,)]"
      ]
     },
     "execution_count": 6,
     "metadata": {},
     "output_type": "execute_result"
    }
   ],
   "source": [
    "%sql select SUM(PAYLOAD_MASS__KG_) as sum from SPACEXTBL WHERE (CUSTOMER) = 'NASA (CRS)'  "
   ]
  },
  {
   "cell_type": "markdown",
   "id": "883581fc-2a62-431f-b3f6-4f0390d2558d",
   "metadata": {},
   "source": [
    "### Task 4\n",
    "\n",
    "\n",
    "\n",
    "\n",
    "##### Display average payload mass carried by booster version F9 v1.1\n"
   ]
  },
  {
   "cell_type": "code",
   "execution_count": 7,
   "id": "db9c69fe-c9b4-49a6-a3ac-e27557cce18d",
   "metadata": {},
   "outputs": [
    {
     "name": "stdout",
     "output_type": "stream",
     "text": [
      " * ibm_db_sa://qxc09986:***@1bbf73c5-d84a-4bb0-85b9-ab1a4348f4a4.c3n41cmd0nqnrk39u98g.databases.appdomain.cloud:32286/bludb;security=SSL\n",
      "Done.\n"
     ]
    },
    {
     "data": {
      "text/html": [
       "<table>\n",
       "    <thead>\n",
       "        <tr>\n",
       "            <th>average_</th>\n",
       "        </tr>\n",
       "    </thead>\n",
       "    <tbody>\n",
       "        <tr>\n",
       "            <td>2928</td>\n",
       "        </tr>\n",
       "    </tbody>\n",
       "</table>"
      ],
      "text/plain": [
       "[(2928,)]"
      ]
     },
     "execution_count": 7,
     "metadata": {},
     "output_type": "execute_result"
    }
   ],
   "source": [
    "%sql select avg(PAYLOAD_MASS__KG_) as average_ from SPACEXTBL WHERE (BOOSTER_VERSION) = 'F9 v1.1'"
   ]
  },
  {
   "cell_type": "markdown",
   "id": "35675edf-94b5-4ea0-89af-bd6dd864b1ab",
   "metadata": {},
   "source": [
    "### Task 5\n",
    "\n",
    "##### List the date where the succesful landing outcome in drone ship was acheived.\n",
    "\n",
    "\n",
    "_Hint:Use min function_ \n"
   ]
  },
  {
   "cell_type": "code",
   "execution_count": 10,
   "id": "0315c068-be72-47c9-8414-e8282d29d0f4",
   "metadata": {},
   "outputs": [
    {
     "name": "stdout",
     "output_type": "stream",
     "text": [
      " * ibm_db_sa://qxc09986:***@1bbf73c5-d84a-4bb0-85b9-ab1a4348f4a4.c3n41cmd0nqnrk39u98g.databases.appdomain.cloud:32286/bludb;security=SSL\n",
      "Done.\n"
     ]
    },
    {
     "data": {
      "text/html": [
       "<table>\n",
       "    <thead>\n",
       "        <tr>\n",
       "            <th>1</th>\n",
       "        </tr>\n",
       "    </thead>\n",
       "    <tbody>\n",
       "        <tr>\n",
       "            <td>2016-05-27</td>\n",
       "        </tr>\n",
       "    </tbody>\n",
       "</table>"
      ],
      "text/plain": [
       "[(datetime.date(2016, 5, 27),)]"
      ]
     },
     "execution_count": 10,
     "metadata": {},
     "output_type": "execute_result"
    }
   ],
   "source": [
    "%sql SELECT min(date_) from SPACEXTBL where landing_outcome = 'Success (drone ship)'\n"
   ]
  },
  {
   "cell_type": "markdown",
   "id": "9e3affaf-c356-4ba0-8b35-c38ea85b519c",
   "metadata": {},
   "source": [
    "### Task 6\n",
    "\n",
    "##### List the names of the boosters which have success in ground pad  and have payload mass greater than 4000 but less than 6000\n"
   ]
  },
  {
   "cell_type": "code",
   "execution_count": 12,
   "id": "943d8803-4906-4296-8662-a9e8d96d7029",
   "metadata": {},
   "outputs": [
    {
     "name": "stdout",
     "output_type": "stream",
     "text": [
      " * ibm_db_sa://qxc09986:***@1bbf73c5-d84a-4bb0-85b9-ab1a4348f4a4.c3n41cmd0nqnrk39u98g.databases.appdomain.cloud:32286/bludb;security=SSL\n",
      "Done.\n"
     ]
    },
    {
     "data": {
      "text/html": [
       "<table>\n",
       "    <thead>\n",
       "        <tr>\n",
       "            <th>booster_version</th>\n",
       "        </tr>\n",
       "    </thead>\n",
       "    <tbody>\n",
       "        <tr>\n",
       "            <td>F9 FT B1032.1</td>\n",
       "        </tr>\n",
       "        <tr>\n",
       "            <td>F9 B4 B1040.1</td>\n",
       "        </tr>\n",
       "        <tr>\n",
       "            <td>F9 B4 B1043.1</td>\n",
       "        </tr>\n",
       "    </tbody>\n",
       "</table>"
      ],
      "text/plain": [
       "[('F9 FT B1032.1',), ('F9 B4 B1040.1',), ('F9 B4 B1043.1',)]"
      ]
     },
     "execution_count": 12,
     "metadata": {},
     "output_type": "execute_result"
    }
   ],
   "source": [
    "%sql select BOOSTER_VERSION from SPACEXTBL where LANDING_OUTCOME='Success (ground pad)'and PAYLOAD_MASS__KG_ BETWEEN 4000 and 6000"
   ]
  },
  {
   "cell_type": "markdown",
   "id": "9cd611f3-6aef-4dbb-8388-2d57467dce28",
   "metadata": {},
   "source": [
    "### Task 7\n",
    "\n",
    "\n",
    "\n",
    "\n",
    "##### List the total number of successful and failure mission outcomes\n"
   ]
  },
  {
   "cell_type": "code",
   "execution_count": 13,
   "id": "4f7f48df-2c38-4883-b4e5-783348a18fc7",
   "metadata": {},
   "outputs": [
    {
     "name": "stdout",
     "output_type": "stream",
     "text": [
      " * ibm_db_sa://qxc09986:***@1bbf73c5-d84a-4bb0-85b9-ab1a4348f4a4.c3n41cmd0nqnrk39u98g.databases.appdomain.cloud:32286/bludb;security=SSL\n",
      "Done.\n"
     ]
    },
    {
     "data": {
      "text/html": [
       "<table>\n",
       "    <thead>\n",
       "        <tr>\n",
       "            <th>mission_outcome</th>\n",
       "            <th>outcome</th>\n",
       "        </tr>\n",
       "    </thead>\n",
       "    <tbody>\n",
       "        <tr>\n",
       "            <td>Failure (in flight)</td>\n",
       "            <td>1</td>\n",
       "        </tr>\n",
       "        <tr>\n",
       "            <td>Success</td>\n",
       "            <td>99</td>\n",
       "        </tr>\n",
       "        <tr>\n",
       "            <td>Success (payload status unclear)</td>\n",
       "            <td>1</td>\n",
       "        </tr>\n",
       "    </tbody>\n",
       "</table>"
      ],
      "text/plain": [
       "[('Failure (in flight)', 1),\n",
       " ('Success', 99),\n",
       " ('Success (payload status unclear)', 1)]"
      ]
     },
     "execution_count": 13,
     "metadata": {},
     "output_type": "execute_result"
    }
   ],
   "source": [
    "%sql SELECT MISSION_OUTCOME, COUNT(MISSION_OUTCOME) AS OUTCOME FROM SPACEXTBL GROUP BY MISSION_OUTCOME"
   ]
  },
  {
   "cell_type": "markdown",
   "id": "536c2025-be46-48c2-b41c-9441356b46fe",
   "metadata": {},
   "source": [
    "### Task 8\n",
    "\n",
    "\n",
    "\n",
    "##### List the   names of the booster_versions which have carried the maximum payload mass. Use a subquery\n"
   ]
  },
  {
   "cell_type": "code",
   "execution_count": 17,
   "id": "bbdb8494-6770-4f65-9fdd-5366f6937602",
   "metadata": {},
   "outputs": [
    {
     "name": "stdout",
     "output_type": "stream",
     "text": [
      " * ibm_db_sa://qxc09986:***@1bbf73c5-d84a-4bb0-85b9-ab1a4348f4a4.c3n41cmd0nqnrk39u98g.databases.appdomain.cloud:32286/bludb;security=SSL\n",
      "Done.\n"
     ]
    },
    {
     "data": {
      "text/html": [
       "<table>\n",
       "    <thead>\n",
       "        <tr>\n",
       "            <th>booster_version</th>\n",
       "        </tr>\n",
       "    </thead>\n",
       "    <tbody>\n",
       "        <tr>\n",
       "            <td>F9 B5 B1048.4</td>\n",
       "        </tr>\n",
       "        <tr>\n",
       "            <td>F9 B5 B1049.4</td>\n",
       "        </tr>\n",
       "        <tr>\n",
       "            <td>F9 B5 B1051.3</td>\n",
       "        </tr>\n",
       "        <tr>\n",
       "            <td>F9 B5 B1056.4</td>\n",
       "        </tr>\n",
       "        <tr>\n",
       "            <td>F9 B5 B1048.5</td>\n",
       "        </tr>\n",
       "        <tr>\n",
       "            <td>F9 B5 B1051.4</td>\n",
       "        </tr>\n",
       "        <tr>\n",
       "            <td>F9 B5 B1049.5</td>\n",
       "        </tr>\n",
       "        <tr>\n",
       "            <td>F9 B5 B1060.2</td>\n",
       "        </tr>\n",
       "        <tr>\n",
       "            <td>F9 B5 B1058.3</td>\n",
       "        </tr>\n",
       "        <tr>\n",
       "            <td>F9 B5 B1051.6</td>\n",
       "        </tr>\n",
       "        <tr>\n",
       "            <td>F9 B5 B1060.3</td>\n",
       "        </tr>\n",
       "        <tr>\n",
       "            <td>F9 B5 B1049.7</td>\n",
       "        </tr>\n",
       "    </tbody>\n",
       "</table>"
      ],
      "text/plain": [
       "[('F9 B5 B1048.4',),\n",
       " ('F9 B5 B1049.4',),\n",
       " ('F9 B5 B1051.3',),\n",
       " ('F9 B5 B1056.4',),\n",
       " ('F9 B5 B1048.5',),\n",
       " ('F9 B5 B1051.4',),\n",
       " ('F9 B5 B1049.5',),\n",
       " ('F9 B5 B1060.2',),\n",
       " ('F9 B5 B1058.3',),\n",
       " ('F9 B5 B1051.6',),\n",
       " ('F9 B5 B1060.3',),\n",
       " ('F9 B5 B1049.7',)]"
      ]
     },
     "execution_count": 17,
     "metadata": {},
     "output_type": "execute_result"
    }
   ],
   "source": [
    "%sql SELECT BOOSTER_VERSION FROM SPACEXTBL WHERE PAYLOAD_MASS__KG_ = (SELECT MAX(PAYLOAD_MASS__KG_) FROM SPACEXTBL)\n"
   ]
  },
  {
   "cell_type": "markdown",
   "id": "19a4974d-8b41-4b17-b2fc-a2b09cc91ec4",
   "metadata": {},
   "source": [
    "### Task 9\n",
    "\n",
    "\n",
    "##### List the records which will display the month names, succesful landing_outcomes in ground pad ,booster versions, launch_site for the months in year 2017\n",
    "**Note: SQLLite does not support monthnames. So you need to use  substr(Date, 4, 2) as month to get the months and substr(Date,7,4)='2017' for year.**\n"
   ]
  },
  {
   "cell_type": "code",
   "execution_count": 27,
   "id": "57c16e0f-eed9-4edf-9a6a-652debd825be",
   "metadata": {},
   "outputs": [
    {
     "name": "stdout",
     "output_type": "stream",
     "text": [
      " * ibm_db_sa://qxc09986:***@1bbf73c5-d84a-4bb0-85b9-ab1a4348f4a4.c3n41cmd0nqnrk39u98g.databases.appdomain.cloud:32286/bludb;security=SSL\n",
      "Done.\n"
     ]
    },
    {
     "data": {
      "text/html": [
       "<table>\n",
       "    <thead>\n",
       "        <tr>\n",
       "            <th>MONTH</th>\n",
       "            <th>date_</th>\n",
       "            <th>booster_version</th>\n",
       "            <th>launch_site</th>\n",
       "            <th>landing_outcome</th>\n",
       "        </tr>\n",
       "    </thead>\n",
       "    <tbody>\n",
       "        <tr>\n",
       "            <td>01</td>\n",
       "            <td>2017-01-14</td>\n",
       "            <td>F9 FT B1029.1</td>\n",
       "            <td>VAFB SLC-4E</td>\n",
       "            <td>Success (drone ship)</td>\n",
       "        </tr>\n",
       "        <tr>\n",
       "            <td>02</td>\n",
       "            <td>2017-02-19</td>\n",
       "            <td>F9 FT B1031.1</td>\n",
       "            <td>KSC LC-39A</td>\n",
       "            <td>Success (ground pad)</td>\n",
       "        </tr>\n",
       "        <tr>\n",
       "            <td>03</td>\n",
       "            <td>2017-03-16</td>\n",
       "            <td>F9 FT B1030</td>\n",
       "            <td>KSC LC-39A</td>\n",
       "            <td>No attempt</td>\n",
       "        </tr>\n",
       "        <tr>\n",
       "            <td>03</td>\n",
       "            <td>2017-03-30</td>\n",
       "            <td>F9 FT  B1021.2</td>\n",
       "            <td>KSC LC-39A</td>\n",
       "            <td>Success (drone ship)</td>\n",
       "        </tr>\n",
       "        <tr>\n",
       "            <td>01</td>\n",
       "            <td>2017-01-05</td>\n",
       "            <td>F9 FT B1032.1</td>\n",
       "            <td>KSC LC-39A</td>\n",
       "            <td>Success (ground pad)</td>\n",
       "        </tr>\n",
       "        <tr>\n",
       "            <td>05</td>\n",
       "            <td>2017-05-15</td>\n",
       "            <td>F9 FT B1034</td>\n",
       "            <td>KSC LC-39A</td>\n",
       "            <td>No attempt</td>\n",
       "        </tr>\n",
       "        <tr>\n",
       "            <td>03</td>\n",
       "            <td>2017-03-06</td>\n",
       "            <td>F9 FT B1035.1</td>\n",
       "            <td>KSC LC-39A</td>\n",
       "            <td>Success (ground pad)</td>\n",
       "        </tr>\n",
       "        <tr>\n",
       "            <td>06</td>\n",
       "            <td>2017-06-23</td>\n",
       "            <td>F9 FT  B1029.2</td>\n",
       "            <td>KSC LC-39A</td>\n",
       "            <td>Success (drone ship)</td>\n",
       "        </tr>\n",
       "        <tr>\n",
       "            <td>06</td>\n",
       "            <td>2017-06-25</td>\n",
       "            <td>F9 FT B1036.1</td>\n",
       "            <td>VAFB SLC-4E</td>\n",
       "            <td>Success (drone ship)</td>\n",
       "        </tr>\n",
       "        <tr>\n",
       "            <td>05</td>\n",
       "            <td>2017-05-07</td>\n",
       "            <td>F9 FT B1037</td>\n",
       "            <td>KSC LC-39A</td>\n",
       "            <td>No attempt</td>\n",
       "        </tr>\n",
       "        <tr>\n",
       "            <td>08</td>\n",
       "            <td>2017-08-14</td>\n",
       "            <td>F9 B4 B1039.1</td>\n",
       "            <td>KSC LC-39A</td>\n",
       "            <td>Success (ground pad)</td>\n",
       "        </tr>\n",
       "        <tr>\n",
       "            <td>08</td>\n",
       "            <td>2017-08-24</td>\n",
       "            <td>F9 FT B1038.1</td>\n",
       "            <td>VAFB SLC-4E</td>\n",
       "            <td>Success (drone ship)</td>\n",
       "        </tr>\n",
       "        <tr>\n",
       "            <td>07</td>\n",
       "            <td>2017-07-09</td>\n",
       "            <td>F9 B4 B1040.1</td>\n",
       "            <td>KSC LC-39A</td>\n",
       "            <td>Success (ground pad)</td>\n",
       "        </tr>\n",
       "        <tr>\n",
       "            <td>09</td>\n",
       "            <td>2017-09-10</td>\n",
       "            <td>F9 B4 B1041.1</td>\n",
       "            <td>VAFB SLC-4E</td>\n",
       "            <td>Success (drone ship)</td>\n",
       "        </tr>\n",
       "        <tr>\n",
       "            <td>11</td>\n",
       "            <td>2017-11-10</td>\n",
       "            <td>F9 FT  B1031.2</td>\n",
       "            <td>KSC LC-39A</td>\n",
       "            <td>Success (drone ship)</td>\n",
       "        </tr>\n",
       "        <tr>\n",
       "            <td>10</td>\n",
       "            <td>2017-10-30</td>\n",
       "            <td>F9 B4 B1042.1</td>\n",
       "            <td>KSC LC-39A</td>\n",
       "            <td>Success (drone ship)</td>\n",
       "        </tr>\n",
       "        <tr>\n",
       "            <td>12</td>\n",
       "            <td>2017-12-15</td>\n",
       "            <td>F9 FT  B1035.2</td>\n",
       "            <td>CCAFS SLC-40</td>\n",
       "            <td>Success (ground pad)</td>\n",
       "        </tr>\n",
       "        <tr>\n",
       "            <td>12</td>\n",
       "            <td>2017-12-23</td>\n",
       "            <td>F9 FT  B1036.2</td>\n",
       "            <td>VAFB SLC-4E</td>\n",
       "            <td>Controlled (ocean)</td>\n",
       "        </tr>\n",
       "    </tbody>\n",
       "</table>"
      ],
      "text/plain": [
       "[('01', datetime.date(2017, 1, 14), 'F9 FT B1029.1', 'VAFB SLC-4E', 'Success (drone ship)'),\n",
       " ('02', datetime.date(2017, 2, 19), 'F9 FT B1031.1', 'KSC LC-39A', 'Success (ground pad)'),\n",
       " ('03', datetime.date(2017, 3, 16), 'F9 FT B1030', 'KSC LC-39A', 'No attempt'),\n",
       " ('03', datetime.date(2017, 3, 30), 'F9 FT  B1021.2', 'KSC LC-39A', 'Success (drone ship)'),\n",
       " ('01', datetime.date(2017, 1, 5), 'F9 FT B1032.1', 'KSC LC-39A', 'Success (ground pad)'),\n",
       " ('05', datetime.date(2017, 5, 15), 'F9 FT B1034', 'KSC LC-39A', 'No attempt'),\n",
       " ('03', datetime.date(2017, 3, 6), 'F9 FT B1035.1', 'KSC LC-39A', 'Success (ground pad)'),\n",
       " ('06', datetime.date(2017, 6, 23), 'F9 FT  B1029.2', 'KSC LC-39A', 'Success (drone ship)'),\n",
       " ('06', datetime.date(2017, 6, 25), 'F9 FT B1036.1', 'VAFB SLC-4E', 'Success (drone ship)'),\n",
       " ('05', datetime.date(2017, 5, 7), 'F9 FT B1037', 'KSC LC-39A', 'No attempt'),\n",
       " ('08', datetime.date(2017, 8, 14), 'F9 B4 B1039.1', 'KSC LC-39A', 'Success (ground pad)'),\n",
       " ('08', datetime.date(2017, 8, 24), 'F9 FT B1038.1', 'VAFB SLC-4E', 'Success (drone ship)'),\n",
       " ('07', datetime.date(2017, 7, 9), 'F9 B4 B1040.1', 'KSC LC-39A', 'Success (ground pad)'),\n",
       " ('09', datetime.date(2017, 9, 10), 'F9 B4 B1041.1', 'VAFB SLC-4E', 'Success (drone ship)'),\n",
       " ('11', datetime.date(2017, 11, 10), 'F9 FT  B1031.2', 'KSC LC-39A', 'Success (drone ship)'),\n",
       " ('10', datetime.date(2017, 10, 30), 'F9 B4 B1042.1', 'KSC LC-39A', 'Success (drone ship)'),\n",
       " ('12', datetime.date(2017, 12, 15), 'F9 FT  B1035.2', 'CCAFS SLC-40', 'Success (ground pad)'),\n",
       " ('12', datetime.date(2017, 12, 23), 'F9 FT  B1036.2', 'VAFB SLC-4E', 'Controlled (ocean)')]"
      ]
     },
     "execution_count": 27,
     "metadata": {},
     "output_type": "execute_result"
    }
   ],
   "source": [
    "%sql SELECT substr(date_,6,2) as MONTH,DATE_,BOOSTER_VERSION,LAUNCH_SITE,LANDING_OUTCOME FROM SPACEXTBL WHERE substr(date_,1,4)='2017'\n"
   ]
  },
  {
   "cell_type": "markdown",
   "id": "acda185b-4b23-4395-b0c8-0b6093980202",
   "metadata": {},
   "source": [
    "### Task 10\n",
    "\n",
    "\n",
    "\n",
    "\n",
    "##### Rank the count of landing outcomes (such as Failure (drone ship) or Success (ground pad)) between the date 2010-06-04 and 2017-03-20, in descending order\n"
   ]
  },
  {
   "cell_type": "code",
   "execution_count": 62,
   "id": "6dd30ef2-5bf3-40ac-84c8-9ba93e6202e0",
   "metadata": {},
   "outputs": [
    {
     "name": "stdout",
     "output_type": "stream",
     "text": [
      " * ibm_db_sa://qxc09986:***@1bbf73c5-d84a-4bb0-85b9-ab1a4348f4a4.c3n41cmd0nqnrk39u98g.databases.appdomain.cloud:32286/bludb;security=SSL\n",
      "Done.\n"
     ]
    },
    {
     "data": {
      "text/html": [
       "<table>\n",
       "    <thead>\n",
       "        <tr>\n",
       "            <th>landing_outcome</th>\n",
       "            <th>count_launches</th>\n",
       "        </tr>\n",
       "    </thead>\n",
       "    <tbody>\n",
       "        <tr>\n",
       "            <td>Failure (drone ship)</td>\n",
       "            <td>5</td>\n",
       "        </tr>\n",
       "        <tr>\n",
       "            <td>Success (ground pad)</td>\n",
       "            <td>5</td>\n",
       "        </tr>\n",
       "    </tbody>\n",
       "</table>"
      ],
      "text/plain": [
       "[('Failure (drone ship)', 5), ('Success (ground pad)', 5)]"
      ]
     },
     "execution_count": 62,
     "metadata": {},
     "output_type": "execute_result"
    }
   ],
   "source": [
    "%sql SELECT LANDING_OUTCOME, COUNT(*) AS COUNT_LAUNCHES FROM SPACEXTBL WHERE LANDING_OUTCOME='Failure (drone ship)' OR LANDING_OUTCOME='Success (ground pad)' AND  DATE_ BETWEEN '2010-06-04' AND '2017-03-20' GROUP BY LANDING_OUTCOME ORDER BY COUNT_LAUNCHES DESC;\n"
   ]
  },
  {
   "cell_type": "markdown",
   "id": "27aec68f-13d3-4302-9213-c44169e835a1",
   "metadata": {},
   "source": [
    "### Reference Links\n",
    "\n",
    "* <a href =\"https://cf-courses-data.s3.us.cloud-object-storage.appdomain.cloud/IBMDeveloperSkillsNetwork-DB0201EN-SkillsNetwork/labs/Module%203/LAB-String_Patterns_Sorting_Grouping.md.html\">Hands-on Lab : String Patterns, Sorting and Grouping</a>  \n",
    "\n",
    "*  <a  href=\"https://cf-courses-data.s3.us.cloud-object-storage.appdomain.cloud/IBMDeveloperSkillsNetwork-DB0201EN-SkillsNetwork/labs/Labs_Coursera_V5/labs/Lab%20-%20Built-in%20functions%20/Hands-on_Lab__Built-in_Functions.md.html\">Hands-on Lab: Built-in functions</a>\n",
    "\n",
    "*  <a  href=\"https://cf-courses-data.s3.us.cloud-object-storage.appdomain.cloud/IBMDeveloperSkillsNetwork-DB0201EN-SkillsNetwork/labs/Labs_Coursera_V5/labs/Lab%20-%20Sub-queries%20and%20Nested%20SELECTs%20/instructional-labs.md.html\">Hands-on Lab : Sub-queries and Nested SELECT Statements</a>\n",
    "\n",
    "*   <a href=\"https://cf-courses-data.s3.us.cloud-object-storage.appdomain.cloud/IBMDeveloperSkillsNetwork-DB0201EN-SkillsNetwork/labs/Module%205/DB0201EN-Week3-1-3-SQLmagic.ipynb\">Hands-on Tutorial: Accessing Databases with SQL magic</a>\n",
    "\n",
    "*  <a href= \"https://cf-courses-data.s3.us.cloud-object-storage.appdomain.cloud/IBMDeveloperSkillsNetwork-DB0201EN-SkillsNetwork/labs/Module%205/DB0201EN-Week3-1-4-Analyzing.ipynb\">Hands-on Lab: Analyzing a real World Data Set</a>\n"
   ]
  },
  {
   "cell_type": "markdown",
   "id": "9aabed8b-5167-48c8-82d8-435624d961ce",
   "metadata": {},
   "source": [
    "## Author(s)\n",
    "\n",
    "<h4> Lakshmi Holla </h4>\n"
   ]
  },
  {
   "cell_type": "markdown",
   "id": "e06547c5-caec-4ae6-ad17-ceaffb2c0f13",
   "metadata": {},
   "source": [
    "## Other Contributors\n",
    "\n",
    "<h4> Rav Ahuja </h4>\n"
   ]
  },
  {
   "cell_type": "markdown",
   "id": "aa16de36-a317-43d9-864d-1ced5c7886f4",
   "metadata": {},
   "source": [
    "## Change log\n",
    "| Date | Version | Changed by | Change Description |\n",
    "|------|--------|--------|---------|\n",
    "| 2021-07-09 | 0.2 |Lakshmi Holla | Changes made in magic sql|\n",
    "| 2021-05-20 | 0.1 |Lakshmi Holla | Created Initial Version |\n"
   ]
  },
  {
   "cell_type": "markdown",
   "id": "3ca7df14-4a85-464b-b9f2-80299ab483f2",
   "metadata": {},
   "source": [
    "## <h3 align=\"center\"> © IBM Corporation 2021. All rights reserved. <h3/>\n"
   ]
  }
 ],
 "metadata": {
  "kernelspec": {
   "display_name": "Python 3",
   "language": "python",
   "name": "python3"
  },
  "language_info": {
   "codemirror_mode": {
    "name": "ipython",
    "version": 3
   },
   "file_extension": ".py",
   "mimetype": "text/x-python",
   "name": "python",
   "nbconvert_exporter": "python",
   "pygments_lexer": "ipython3",
   "version": "3.8.8"
  }
 },
 "nbformat": 4,
 "nbformat_minor": 4
}
